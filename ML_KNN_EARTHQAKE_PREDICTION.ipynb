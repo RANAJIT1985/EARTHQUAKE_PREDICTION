{
 "cells": [
  {
   "cell_type": "markdown",
   "id": "53a55592",
   "metadata": {},
   "source": [
    "# EARTHQUACKE PREDICTION PROBLEM \n",
    "IMPORTING OF DIFFERENT LIBRARIES"
   ]
  },
  {
   "cell_type": "code",
   "execution_count": 3,
   "id": "eb4bf981",
   "metadata": {},
   "outputs": [],
   "source": [
    "import pandas as pd\n",
    "import numpy as np\n",
    "import matplotlib.pyplot as plt\n",
    "import seaborn as sns"
   ]
  },
  {
   "cell_type": "markdown",
   "id": "288c7313",
   "metadata": {},
   "source": [
    "IMPORTING OF DATA TABLES"
   ]
  },
  {
   "cell_type": "code",
   "execution_count": 4,
   "id": "e261b0da",
   "metadata": {},
   "outputs": [],
   "source": [
    "df = pd.read_csv('Earthquake Perception Dataset.csv')"
   ]
  },
  {
   "cell_type": "code",
   "execution_count": 5,
   "id": "20276fdc",
   "metadata": {},
   "outputs": [
    {
     "data": {
      "text/html": [
       "<div>\n",
       "<style scoped>\n",
       "    .dataframe tbody tr th:only-of-type {\n",
       "        vertical-align: middle;\n",
       "    }\n",
       "\n",
       "    .dataframe tbody tr th {\n",
       "        vertical-align: top;\n",
       "    }\n",
       "\n",
       "    .dataframe thead th {\n",
       "        text-align: right;\n",
       "    }\n",
       "</style>\n",
       "<table border=\"1\" class=\"dataframe\">\n",
       "  <thead>\n",
       "    <tr style=\"text-align: right;\">\n",
       "      <th></th>\n",
       "      <th>age</th>\n",
       "      <th>sex</th>\n",
       "      <th>marital_status</th>\n",
       "      <th>residence</th>\n",
       "      <th>education</th>\n",
       "      <th>occupation</th>\n",
       "      <th>out_of_region_employment</th>\n",
       "      <th>family_members</th>\n",
       "      <th>family_disabilities</th>\n",
       "      <th>house_floor</th>\n",
       "      <th>...</th>\n",
       "      <th>INGV_trust</th>\n",
       "      <th>security</th>\n",
       "      <th>reception_centers</th>\n",
       "      <th>property_house</th>\n",
       "      <th>housing_type</th>\n",
       "      <th>elevator</th>\n",
       "      <th>n_vehicles</th>\n",
       "      <th>vehicle_type</th>\n",
       "      <th>end_of_month</th>\n",
       "      <th>salary</th>\n",
       "    </tr>\n",
       "  </thead>\n",
       "  <tbody>\n",
       "    <tr>\n",
       "      <th>0</th>\n",
       "      <td>21.0</td>\n",
       "      <td>Male</td>\n",
       "      <td>Unmarried</td>\n",
       "      <td>Napoli</td>\n",
       "      <td>Upper Secondary School</td>\n",
       "      <td>Student</td>\n",
       "      <td>No</td>\n",
       "      <td>4</td>\n",
       "      <td>No</td>\n",
       "      <td>1</td>\n",
       "      <td>...</td>\n",
       "      <td>4</td>\n",
       "      <td>2</td>\n",
       "      <td>No</td>\n",
       "      <td>Yes</td>\n",
       "      <td>Apartment</td>\n",
       "      <td>Yes</td>\n",
       "      <td>0</td>\n",
       "      <td>NaN</td>\n",
       "      <td>1</td>\n",
       "      <td>Up to €15000</td>\n",
       "    </tr>\n",
       "    <tr>\n",
       "      <th>1</th>\n",
       "      <td>21.0</td>\n",
       "      <td>Female</td>\n",
       "      <td>Unmarried</td>\n",
       "      <td>Napoli</td>\n",
       "      <td>Upper Secondary School</td>\n",
       "      <td>Student</td>\n",
       "      <td>No</td>\n",
       "      <td>5</td>\n",
       "      <td>No</td>\n",
       "      <td>4</td>\n",
       "      <td>...</td>\n",
       "      <td>3</td>\n",
       "      <td>1</td>\n",
       "      <td>No</td>\n",
       "      <td>Yes</td>\n",
       "      <td>Other</td>\n",
       "      <td>Yes</td>\n",
       "      <td>5</td>\n",
       "      <td>Car and Motorcycle</td>\n",
       "      <td>1</td>\n",
       "      <td>Between €28000 and €50000</td>\n",
       "    </tr>\n",
       "    <tr>\n",
       "      <th>2</th>\n",
       "      <td>21.0</td>\n",
       "      <td>Female</td>\n",
       "      <td>Unmarried</td>\n",
       "      <td>Napoli</td>\n",
       "      <td>Upper Secondary School</td>\n",
       "      <td>Student Worker</td>\n",
       "      <td>No</td>\n",
       "      <td>5</td>\n",
       "      <td>No</td>\n",
       "      <td>4</td>\n",
       "      <td>...</td>\n",
       "      <td>5</td>\n",
       "      <td>3</td>\n",
       "      <td>Yes</td>\n",
       "      <td>Yes</td>\n",
       "      <td>Apartment</td>\n",
       "      <td>Yes</td>\n",
       "      <td>0</td>\n",
       "      <td>NaN</td>\n",
       "      <td>1</td>\n",
       "      <td>Between €15000 and €28000</td>\n",
       "    </tr>\n",
       "    <tr>\n",
       "      <th>3</th>\n",
       "      <td>23.0</td>\n",
       "      <td>Male</td>\n",
       "      <td>Unmarried</td>\n",
       "      <td>Quarto</td>\n",
       "      <td>Upper Secondary School</td>\n",
       "      <td>Student</td>\n",
       "      <td>No</td>\n",
       "      <td>5</td>\n",
       "      <td>No</td>\n",
       "      <td>2</td>\n",
       "      <td>...</td>\n",
       "      <td>1</td>\n",
       "      <td>1</td>\n",
       "      <td>No</td>\n",
       "      <td>No</td>\n",
       "      <td>Apartment</td>\n",
       "      <td>No</td>\n",
       "      <td>2</td>\n",
       "      <td>Car</td>\n",
       "      <td>5</td>\n",
       "      <td>Up to €15000</td>\n",
       "    </tr>\n",
       "    <tr>\n",
       "      <th>4</th>\n",
       "      <td>64.0</td>\n",
       "      <td>Female</td>\n",
       "      <td>Unmarried</td>\n",
       "      <td>Somma Vesuviana</td>\n",
       "      <td>Degree</td>\n",
       "      <td>Retired</td>\n",
       "      <td>No</td>\n",
       "      <td>1</td>\n",
       "      <td>No</td>\n",
       "      <td>2</td>\n",
       "      <td>...</td>\n",
       "      <td>4</td>\n",
       "      <td>2</td>\n",
       "      <td>No</td>\n",
       "      <td>No</td>\n",
       "      <td>Apartment</td>\n",
       "      <td>Yes</td>\n",
       "      <td>0</td>\n",
       "      <td>NaN</td>\n",
       "      <td>3</td>\n",
       "      <td>Between €15000 and €28000</td>\n",
       "    </tr>\n",
       "  </tbody>\n",
       "</table>\n",
       "<p>5 rows × 43 columns</p>\n",
       "</div>"
      ],
      "text/plain": [
       "    age     sex marital_status        residence               education  \\\n",
       "0  21.0    Male      Unmarried           Napoli  Upper Secondary School   \n",
       "1  21.0  Female      Unmarried           Napoli  Upper Secondary School   \n",
       "2  21.0  Female      Unmarried           Napoli  Upper Secondary School   \n",
       "3  23.0    Male      Unmarried           Quarto  Upper Secondary School   \n",
       "4  64.0  Female      Unmarried  Somma Vesuviana                  Degree   \n",
       "\n",
       "       occupation out_of_region_employment family_members family_disabilities  \\\n",
       "0         Student                       No              4                  No   \n",
       "1         Student                       No              5                  No   \n",
       "2  Student Worker                       No              5                  No   \n",
       "3         Student                       No              5                  No   \n",
       "4         Retired                       No              1                  No   \n",
       "\n",
       "  house_floor  ... INGV_trust security  reception_centers  property_house  \\\n",
       "0           1  ...          4        2                 No             Yes   \n",
       "1           4  ...          3        1                 No             Yes   \n",
       "2           4  ...          5        3                Yes             Yes   \n",
       "3           2  ...          1        1                 No              No   \n",
       "4           2  ...          4        2                 No              No   \n",
       "\n",
       "   housing_type  elevator  n_vehicles        vehicle_type  end_of_month  \\\n",
       "0     Apartment       Yes           0                 NaN             1   \n",
       "1         Other       Yes           5  Car and Motorcycle             1   \n",
       "2     Apartment       Yes           0                 NaN             1   \n",
       "3     Apartment        No           2                 Car             5   \n",
       "4     Apartment       Yes           0                 NaN             3   \n",
       "\n",
       "                      salary  \n",
       "0               Up to €15000  \n",
       "1  Between €28000 and €50000  \n",
       "2  Between €15000 and €28000  \n",
       "3               Up to €15000  \n",
       "4  Between €15000 and €28000  \n",
       "\n",
       "[5 rows x 43 columns]"
      ]
     },
     "execution_count": 5,
     "metadata": {},
     "output_type": "execute_result"
    }
   ],
   "source": [
    "df.head()"
   ]
  },
  {
   "cell_type": "code",
   "execution_count": 6,
   "id": "69d3534e",
   "metadata": {},
   "outputs": [
    {
     "data": {
      "text/plain": [
       "(472, 43)"
      ]
     },
     "execution_count": 6,
     "metadata": {},
     "output_type": "execute_result"
    }
   ],
   "source": [
    "df.shape"
   ]
  },
  {
   "cell_type": "markdown",
   "id": "e63e8e8d",
   "metadata": {},
   "source": [
    "DUPLICATION TREATMENT"
   ]
  },
  {
   "cell_type": "code",
   "execution_count": 7,
   "id": "127bb38f",
   "metadata": {},
   "outputs": [
    {
     "data": {
      "text/plain": [
       "0"
      ]
     },
     "execution_count": 7,
     "metadata": {},
     "output_type": "execute_result"
    }
   ],
   "source": [
    "df.duplicated().sum()"
   ]
  },
  {
   "cell_type": "markdown",
   "id": "3e1183ea",
   "metadata": {},
   "source": [
    "NULL VALUE TREATMENT"
   ]
  },
  {
   "cell_type": "code",
   "execution_count": 8,
   "id": "2b208562",
   "metadata": {},
   "outputs": [
    {
     "data": {
      "text/plain": [
       "age                                16\n",
       "sex                                 2\n",
       "marital_status                      0\n",
       "residence                           4\n",
       "education                           0\n",
       "occupation                          0\n",
       "out_of_region_employment            0\n",
       "family_members                      0\n",
       "family_disabilities                 8\n",
       "house_floor                         0\n",
       "earthquake80                        0\n",
       "political_orientation             270\n",
       "shocks                              0\n",
       "fear                                0\n",
       "anxiety                             0\n",
       "physiological_symptoms              0\n",
       "decision_timeliness                 0\n",
       "insomnia                            0\n",
       "seismic_concern                     0\n",
       "abroad                              0\n",
       "out_of_region                       0\n",
       "out_of_region_earthquake            0\n",
       "change_of_residence                 0\n",
       "change_of_residence_earthquake      0\n",
       "red_zone_frequency                  0\n",
       "radio_info                          0\n",
       "TV_info                             0\n",
       "social_media_info                   0\n",
       "newspaper_info                      0\n",
       "app_info                            0\n",
       "municipal_institutions_trust        0\n",
       "regional_institutions_trust         0\n",
       "national_institutions_trust         0\n",
       "INGV_trust                          0\n",
       "security                            0\n",
       "reception_centers                   0\n",
       "property_house                      0\n",
       "housing_type                        0\n",
       "elevator                            0\n",
       "n_vehicles                          0\n",
       "vehicle_type                       63\n",
       "end_of_month                        0\n",
       "salary                            168\n",
       "dtype: int64"
      ]
     },
     "execution_count": 8,
     "metadata": {},
     "output_type": "execute_result"
    }
   ],
   "source": [
    "df.isnull().sum()"
   ]
  },
  {
   "cell_type": "code",
   "execution_count": 10,
   "id": "74972e80",
   "metadata": {},
   "outputs": [],
   "source": [
    "df['age'].fillna(df['age'].mean(), inplace=True)\n",
    "df['sex'].fillna('Female', inplace=True)\n",
    "df['residence'].fillna('Napoli', inplace=True)\n",
    "df['political_orientation'].fillna('Left', inplace=True)\n",
    "df['vehicle_type'].fillna('Car', inplace=True)\n",
    "df['salary'].fillna('Up to €15000', inplace=True)"
   ]
  },
  {
   "cell_type": "code",
   "execution_count": 11,
   "id": "0b932184",
   "metadata": {},
   "outputs": [
    {
     "name": "stdout",
     "output_type": "stream",
     "text": [
      "<class 'pandas.core.frame.DataFrame'>\n",
      "RangeIndex: 472 entries, 0 to 471\n",
      "Data columns (total 43 columns):\n",
      " #   Column                          Non-Null Count  Dtype  \n",
      "---  ------                          --------------  -----  \n",
      " 0   age                             472 non-null    float64\n",
      " 1   sex                             472 non-null    object \n",
      " 2   marital_status                  472 non-null    object \n",
      " 3   residence                       472 non-null    object \n",
      " 4   education                       472 non-null    object \n",
      " 5   occupation                      472 non-null    object \n",
      " 6   out_of_region_employment        472 non-null    object \n",
      " 7   family_members                  472 non-null    object \n",
      " 8   family_disabilities             464 non-null    object \n",
      " 9   house_floor                     472 non-null    object \n",
      " 10  earthquake80                    472 non-null    object \n",
      " 11  political_orientation           472 non-null    object \n",
      " 12  shocks                          472 non-null    int64  \n",
      " 13  fear                            472 non-null    int64  \n",
      " 14  anxiety                         472 non-null    int64  \n",
      " 15  physiological_symptoms          472 non-null    int64  \n",
      " 16  decision_timeliness             472 non-null    int64  \n",
      " 17  insomnia                        472 non-null    int64  \n",
      " 18  seismic_concern                 472 non-null    int64  \n",
      " 19  abroad                          472 non-null    object \n",
      " 20  out_of_region                   472 non-null    object \n",
      " 21  out_of_region_earthquake        472 non-null    object \n",
      " 22  change_of_residence             472 non-null    object \n",
      " 23  change_of_residence_earthquake  472 non-null    object \n",
      " 24  red_zone_frequency              472 non-null    object \n",
      " 25  radio_info                      472 non-null    int64  \n",
      " 26  TV_info                         472 non-null    int64  \n",
      " 27  social_media_info               472 non-null    int64  \n",
      " 28  newspaper_info                  472 non-null    int64  \n",
      " 29  app_info                        472 non-null    int64  \n",
      " 30  municipal_institutions_trust    472 non-null    int64  \n",
      " 31  regional_institutions_trust     472 non-null    int64  \n",
      " 32  national_institutions_trust     472 non-null    int64  \n",
      " 33  INGV_trust                      472 non-null    int64  \n",
      " 34  security                        472 non-null    int64  \n",
      " 35  reception_centers               472 non-null    object \n",
      " 36  property_house                  472 non-null    object \n",
      " 37  housing_type                    472 non-null    object \n",
      " 38  elevator                        472 non-null    object \n",
      " 39  n_vehicles                      472 non-null    int64  \n",
      " 40  vehicle_type                    472 non-null    object \n",
      " 41  end_of_month                    472 non-null    int64  \n",
      " 42  salary                          472 non-null    object \n",
      "dtypes: float64(1), int64(19), object(23)\n",
      "memory usage: 158.7+ KB\n"
     ]
    }
   ],
   "source": [
    "df.info()"
   ]
  },
  {
   "cell_type": "markdown",
   "id": "da02b350",
   "metadata": {},
   "source": [
    "CONVERTING EARTHQUACK POSSIILITY YES-1 & NO-0"
   ]
  },
  {
   "cell_type": "code",
   "execution_count": 12,
   "id": "32ffb6ea",
   "metadata": {},
   "outputs": [],
   "source": [
    "df['earthquake80'] = df['earthquake80'].replace({'Yes': 1, 'No': 0})"
   ]
  },
  {
   "cell_type": "code",
   "execution_count": 13,
   "id": "281d20fe",
   "metadata": {},
   "outputs": [
    {
     "data": {
      "text/plain": [
       "earthquake80\n",
       "0    310\n",
       "1    162\n",
       "Name: count, dtype: int64"
      ]
     },
     "execution_count": 13,
     "metadata": {},
     "output_type": "execute_result"
    }
   ],
   "source": [
    "df['earthquake80'].value_counts()"
   ]
  },
  {
   "cell_type": "markdown",
   "id": "49150f6f",
   "metadata": {},
   "source": [
    "SEPARATE THE NON OBJECT COLUMNS FROM OBJECT COLUMNS"
   ]
  },
  {
   "cell_type": "code",
   "execution_count": 14,
   "id": "d9dbc85c",
   "metadata": {},
   "outputs": [
    {
     "name": "stdout",
     "output_type": "stream",
     "text": [
      "df1:\n",
      "        sex marital_status        residence               education  \\\n",
      "0      Male      Unmarried           Napoli  Upper Secondary School   \n",
      "1    Female      Unmarried           Napoli  Upper Secondary School   \n",
      "2    Female      Unmarried           Napoli  Upper Secondary School   \n",
      "3      Male      Unmarried           Quarto  Upper Secondary School   \n",
      "4    Female      Unmarried  Somma Vesuviana                  Degree   \n",
      "..      ...            ...              ...                     ...   \n",
      "467    Male      Unmarried          Caserta                  Degree   \n",
      "468  Female      Unmarried          Cercola  Lower Secondary School   \n",
      "469  Female      Unmarried         Pozzuoli                  Degree   \n",
      "470  Female     Cohabiting         Pozzuoli     Postgraduate Degree   \n",
      "471  Female        Married        Gualtieri                  Degree   \n",
      "\n",
      "         occupation out_of_region_employment family_members  \\\n",
      "0           Student                       No              4   \n",
      "1           Student                       No              5   \n",
      "2    Student Worker                       No              5   \n",
      "3           Student                       No              5   \n",
      "4           Retired                       No              1   \n",
      "..              ...                      ...            ...   \n",
      "467         Student                       No         Over 5   \n",
      "468         Student                       No              3   \n",
      "469        Employee                       No              1   \n",
      "470   Self-Employed                       No              4   \n",
      "471        Employee                      Yes              4   \n",
      "\n",
      "    family_disabilities       house_floor political_orientation  ...  \\\n",
      "0                    No                 1                  Left  ...   \n",
      "1                    No                 4                Center  ...   \n",
      "2                    No                 4                  Left  ...   \n",
      "3                    No                 2                  Left  ...   \n",
      "4                    No                 2                  Left  ...   \n",
      "..                  ...               ...                   ...  ...   \n",
      "467                  No  0 (Ground Floor)                Center  ...   \n",
      "468                  No                 1                  Left  ...   \n",
      "469                  No            Over 5                  Left  ...   \n",
      "470                  No                 3                  Left  ...   \n",
      "471                  No  0 (Ground Floor)                  Left  ...   \n",
      "\n",
      "    out_of_region_earthquake change_of_residence  \\\n",
      "0                         No                  No   \n",
      "1                         No                 Yes   \n",
      "2                        Yes                 Yes   \n",
      "3                        Yes                 Yes   \n",
      "4                         No                 Yes   \n",
      "..                       ...                 ...   \n",
      "467                       No                 Yes   \n",
      "468                       No                  No   \n",
      "469                      Yes                 Yes   \n",
      "470                      Yes                 Yes   \n",
      "471                       No                  No   \n",
      "\n",
      "    change_of_residence_earthquake red_zone_frequency reception_centers  \\\n",
      "0                               No                 No                No   \n",
      "1                               No                Yes                No   \n",
      "2                              Yes                Yes               Yes   \n",
      "3                              Yes                Yes                No   \n",
      "4                              Yes                Yes                No   \n",
      "..                             ...                ...               ...   \n",
      "467                             No                 No                No   \n",
      "468                             No                Yes                No   \n",
      "469                            Yes                Yes               Yes   \n",
      "470                            Yes                Yes               Yes   \n",
      "471                             No                 No               Yes   \n",
      "\n",
      "    property_house       housing_type elevator        vehicle_type  \\\n",
      "0              Yes          Apartment      Yes                 Car   \n",
      "1              Yes              Other      Yes  Car and Motorcycle   \n",
      "2              Yes          Apartment      Yes                 Car   \n",
      "3               No          Apartment       No                 Car   \n",
      "4               No          Apartment      Yes                 Car   \n",
      "..             ...                ...      ...                 ...   \n",
      "467            Yes          Apartment      Yes                 Car   \n",
      "468            Yes          Apartment      Yes                 Car   \n",
      "469            Yes          Apartment      Yes                 Car   \n",
      "470             No          Apartment       No                 Car   \n",
      "471            Yes  Villa/Small Villa       No                 Car   \n",
      "\n",
      "                        salary  \n",
      "0                 Up to €15000  \n",
      "1    Between €28000 and €50000  \n",
      "2    Between €15000 and €28000  \n",
      "3                 Up to €15000  \n",
      "4    Between €15000 and €28000  \n",
      "..                         ...  \n",
      "467               Up to €15000  \n",
      "468               Up to €15000  \n",
      "469               Up to €15000  \n",
      "470  Between €28000 and €50000  \n",
      "471               Up to €15000  \n",
      "\n",
      "[472 rows x 22 columns]\n",
      "\n",
      "df:\n",
      "           age  earthquake80  shocks  fear  anxiety  physiological_symptoms  \\\n",
      "0    21.000000             0       3     2        2                       2   \n",
      "1    21.000000             0       1     2        2                       1   \n",
      "2    21.000000             0       3     2        2                       1   \n",
      "3    23.000000             0       3     3        3                       3   \n",
      "4    64.000000             1       4     4        4                       3   \n",
      "..         ...           ...     ...   ...      ...                     ...   \n",
      "467  25.000000             0       3     3        3                       1   \n",
      "468  38.872807             0       2     4        4                       3   \n",
      "469  45.000000             0       2     1        2                       2   \n",
      "470  44.000000             0       3     3        4                       2   \n",
      "471  32.000000             0       3     3        3                       3   \n",
      "\n",
      "     decision_timeliness  insomnia  seismic_concern  radio_info  ...  \\\n",
      "0                      3         1                2           3  ...   \n",
      "1                      3         2                4           3  ...   \n",
      "2                      4         2                3           2  ...   \n",
      "3                      1         3                4           1  ...   \n",
      "4                      2         3                4           3  ...   \n",
      "..                   ...       ...              ...         ...  ...   \n",
      "467                    2         2                4           5  ...   \n",
      "468                    3         2                4           3  ...   \n",
      "469                    4         2                3           1  ...   \n",
      "470                    2         4                4           3  ...   \n",
      "471                    5         4                4           5  ...   \n",
      "\n",
      "     social_media_info  newspaper_info  app_info  \\\n",
      "0                    2               4         4   \n",
      "1                    2               2         2   \n",
      "2                    2               2         2   \n",
      "3                    1               1         1   \n",
      "4                    3               3         3   \n",
      "..                 ...             ...       ...   \n",
      "467                  5               5         5   \n",
      "468                  3               3         3   \n",
      "469                  3               2         2   \n",
      "470                  4               3         3   \n",
      "471                  4               4         3   \n",
      "\n",
      "     municipal_institutions_trust  regional_institutions_trust  \\\n",
      "0                               3                            3   \n",
      "1                               2                            2   \n",
      "2                               2                            2   \n",
      "3                               1                            1   \n",
      "4                               2                            3   \n",
      "..                            ...                          ...   \n",
      "467                             2                            2   \n",
      "468                             3                            3   \n",
      "469                             2                            3   \n",
      "470                             3                            3   \n",
      "471                             5                            5   \n",
      "\n",
      "     national_institutions_trust  INGV_trust  security  n_vehicles  \\\n",
      "0                              3           4         2           0   \n",
      "1                              2           3         1           5   \n",
      "2                              2           5         3           0   \n",
      "3                              1           1         1           2   \n",
      "4                              2           4         2           0   \n",
      "..                           ...         ...       ...         ...   \n",
      "467                            2           3         3           3   \n",
      "468                            3           3         2           1   \n",
      "469                            3           3         3           1   \n",
      "470                            2           4         2           2   \n",
      "471                            5           5         5           2   \n",
      "\n",
      "     end_of_month  \n",
      "0               1  \n",
      "1               1  \n",
      "2               1  \n",
      "3               5  \n",
      "4               3  \n",
      "..            ...  \n",
      "467             3  \n",
      "468             3  \n",
      "469             1  \n",
      "470             2  \n",
      "471             2  \n",
      "\n",
      "[472 rows x 21 columns]\n"
     ]
    }
   ],
   "source": [
    "# Select object data type columns\n",
    "df1 = df.select_dtypes(include=['object'])\n",
    "\n",
    "# Select non-object data type columns\n",
    "df = df.select_dtypes(exclude=['object'])\n",
    "\n",
    "print(\"df1:\")\n",
    "print(df1)\n",
    "print(\"\\ndf:\")\n",
    "print(df)"
   ]
  },
  {
   "cell_type": "markdown",
   "id": "10189be3",
   "metadata": {},
   "source": [
    "DEFINING THE FEATURES & VARIABLES"
   ]
  },
  {
   "cell_type": "code",
   "execution_count": 15,
   "id": "c68a8e93",
   "metadata": {},
   "outputs": [],
   "source": [
    "X = df.drop(columns='earthquake80')\n",
    "y = df['earthquake80']"
   ]
  },
  {
   "cell_type": "code",
   "execution_count": 16,
   "id": "169fad82",
   "metadata": {},
   "outputs": [
    {
     "data": {
      "text/html": [
       "<div>\n",
       "<style scoped>\n",
       "    .dataframe tbody tr th:only-of-type {\n",
       "        vertical-align: middle;\n",
       "    }\n",
       "\n",
       "    .dataframe tbody tr th {\n",
       "        vertical-align: top;\n",
       "    }\n",
       "\n",
       "    .dataframe thead th {\n",
       "        text-align: right;\n",
       "    }\n",
       "</style>\n",
       "<table border=\"1\" class=\"dataframe\">\n",
       "  <thead>\n",
       "    <tr style=\"text-align: right;\">\n",
       "      <th></th>\n",
       "      <th>age</th>\n",
       "      <th>shocks</th>\n",
       "      <th>fear</th>\n",
       "      <th>anxiety</th>\n",
       "      <th>physiological_symptoms</th>\n",
       "      <th>decision_timeliness</th>\n",
       "      <th>insomnia</th>\n",
       "      <th>seismic_concern</th>\n",
       "      <th>radio_info</th>\n",
       "      <th>TV_info</th>\n",
       "      <th>social_media_info</th>\n",
       "      <th>newspaper_info</th>\n",
       "      <th>app_info</th>\n",
       "      <th>municipal_institutions_trust</th>\n",
       "      <th>regional_institutions_trust</th>\n",
       "      <th>national_institutions_trust</th>\n",
       "      <th>INGV_trust</th>\n",
       "      <th>security</th>\n",
       "      <th>n_vehicles</th>\n",
       "      <th>end_of_month</th>\n",
       "    </tr>\n",
       "  </thead>\n",
       "  <tbody>\n",
       "    <tr>\n",
       "      <th>0</th>\n",
       "      <td>21.000000</td>\n",
       "      <td>3</td>\n",
       "      <td>2</td>\n",
       "      <td>2</td>\n",
       "      <td>2</td>\n",
       "      <td>3</td>\n",
       "      <td>1</td>\n",
       "      <td>2</td>\n",
       "      <td>3</td>\n",
       "      <td>4</td>\n",
       "      <td>2</td>\n",
       "      <td>4</td>\n",
       "      <td>4</td>\n",
       "      <td>3</td>\n",
       "      <td>3</td>\n",
       "      <td>3</td>\n",
       "      <td>4</td>\n",
       "      <td>2</td>\n",
       "      <td>0</td>\n",
       "      <td>1</td>\n",
       "    </tr>\n",
       "    <tr>\n",
       "      <th>1</th>\n",
       "      <td>21.000000</td>\n",
       "      <td>1</td>\n",
       "      <td>2</td>\n",
       "      <td>2</td>\n",
       "      <td>1</td>\n",
       "      <td>3</td>\n",
       "      <td>2</td>\n",
       "      <td>4</td>\n",
       "      <td>3</td>\n",
       "      <td>2</td>\n",
       "      <td>2</td>\n",
       "      <td>2</td>\n",
       "      <td>2</td>\n",
       "      <td>2</td>\n",
       "      <td>2</td>\n",
       "      <td>2</td>\n",
       "      <td>3</td>\n",
       "      <td>1</td>\n",
       "      <td>5</td>\n",
       "      <td>1</td>\n",
       "    </tr>\n",
       "    <tr>\n",
       "      <th>2</th>\n",
       "      <td>21.000000</td>\n",
       "      <td>3</td>\n",
       "      <td>2</td>\n",
       "      <td>2</td>\n",
       "      <td>1</td>\n",
       "      <td>4</td>\n",
       "      <td>2</td>\n",
       "      <td>3</td>\n",
       "      <td>2</td>\n",
       "      <td>2</td>\n",
       "      <td>2</td>\n",
       "      <td>2</td>\n",
       "      <td>2</td>\n",
       "      <td>2</td>\n",
       "      <td>2</td>\n",
       "      <td>2</td>\n",
       "      <td>5</td>\n",
       "      <td>3</td>\n",
       "      <td>0</td>\n",
       "      <td>1</td>\n",
       "    </tr>\n",
       "    <tr>\n",
       "      <th>3</th>\n",
       "      <td>23.000000</td>\n",
       "      <td>3</td>\n",
       "      <td>3</td>\n",
       "      <td>3</td>\n",
       "      <td>3</td>\n",
       "      <td>1</td>\n",
       "      <td>3</td>\n",
       "      <td>4</td>\n",
       "      <td>1</td>\n",
       "      <td>1</td>\n",
       "      <td>1</td>\n",
       "      <td>1</td>\n",
       "      <td>1</td>\n",
       "      <td>1</td>\n",
       "      <td>1</td>\n",
       "      <td>1</td>\n",
       "      <td>1</td>\n",
       "      <td>1</td>\n",
       "      <td>2</td>\n",
       "      <td>5</td>\n",
       "    </tr>\n",
       "    <tr>\n",
       "      <th>4</th>\n",
       "      <td>64.000000</td>\n",
       "      <td>4</td>\n",
       "      <td>4</td>\n",
       "      <td>4</td>\n",
       "      <td>3</td>\n",
       "      <td>2</td>\n",
       "      <td>3</td>\n",
       "      <td>4</td>\n",
       "      <td>3</td>\n",
       "      <td>3</td>\n",
       "      <td>3</td>\n",
       "      <td>3</td>\n",
       "      <td>3</td>\n",
       "      <td>2</td>\n",
       "      <td>3</td>\n",
       "      <td>2</td>\n",
       "      <td>4</td>\n",
       "      <td>2</td>\n",
       "      <td>0</td>\n",
       "      <td>3</td>\n",
       "    </tr>\n",
       "    <tr>\n",
       "      <th>...</th>\n",
       "      <td>...</td>\n",
       "      <td>...</td>\n",
       "      <td>...</td>\n",
       "      <td>...</td>\n",
       "      <td>...</td>\n",
       "      <td>...</td>\n",
       "      <td>...</td>\n",
       "      <td>...</td>\n",
       "      <td>...</td>\n",
       "      <td>...</td>\n",
       "      <td>...</td>\n",
       "      <td>...</td>\n",
       "      <td>...</td>\n",
       "      <td>...</td>\n",
       "      <td>...</td>\n",
       "      <td>...</td>\n",
       "      <td>...</td>\n",
       "      <td>...</td>\n",
       "      <td>...</td>\n",
       "      <td>...</td>\n",
       "    </tr>\n",
       "    <tr>\n",
       "      <th>467</th>\n",
       "      <td>25.000000</td>\n",
       "      <td>3</td>\n",
       "      <td>3</td>\n",
       "      <td>3</td>\n",
       "      <td>1</td>\n",
       "      <td>2</td>\n",
       "      <td>2</td>\n",
       "      <td>4</td>\n",
       "      <td>5</td>\n",
       "      <td>5</td>\n",
       "      <td>5</td>\n",
       "      <td>5</td>\n",
       "      <td>5</td>\n",
       "      <td>2</td>\n",
       "      <td>2</td>\n",
       "      <td>2</td>\n",
       "      <td>3</td>\n",
       "      <td>3</td>\n",
       "      <td>3</td>\n",
       "      <td>3</td>\n",
       "    </tr>\n",
       "    <tr>\n",
       "      <th>468</th>\n",
       "      <td>38.872807</td>\n",
       "      <td>2</td>\n",
       "      <td>4</td>\n",
       "      <td>4</td>\n",
       "      <td>3</td>\n",
       "      <td>3</td>\n",
       "      <td>2</td>\n",
       "      <td>4</td>\n",
       "      <td>3</td>\n",
       "      <td>3</td>\n",
       "      <td>3</td>\n",
       "      <td>3</td>\n",
       "      <td>3</td>\n",
       "      <td>3</td>\n",
       "      <td>3</td>\n",
       "      <td>3</td>\n",
       "      <td>3</td>\n",
       "      <td>2</td>\n",
       "      <td>1</td>\n",
       "      <td>3</td>\n",
       "    </tr>\n",
       "    <tr>\n",
       "      <th>469</th>\n",
       "      <td>45.000000</td>\n",
       "      <td>2</td>\n",
       "      <td>1</td>\n",
       "      <td>2</td>\n",
       "      <td>2</td>\n",
       "      <td>4</td>\n",
       "      <td>2</td>\n",
       "      <td>3</td>\n",
       "      <td>1</td>\n",
       "      <td>1</td>\n",
       "      <td>3</td>\n",
       "      <td>2</td>\n",
       "      <td>2</td>\n",
       "      <td>2</td>\n",
       "      <td>3</td>\n",
       "      <td>3</td>\n",
       "      <td>3</td>\n",
       "      <td>3</td>\n",
       "      <td>1</td>\n",
       "      <td>1</td>\n",
       "    </tr>\n",
       "    <tr>\n",
       "      <th>470</th>\n",
       "      <td>44.000000</td>\n",
       "      <td>3</td>\n",
       "      <td>3</td>\n",
       "      <td>4</td>\n",
       "      <td>2</td>\n",
       "      <td>2</td>\n",
       "      <td>4</td>\n",
       "      <td>4</td>\n",
       "      <td>3</td>\n",
       "      <td>3</td>\n",
       "      <td>4</td>\n",
       "      <td>3</td>\n",
       "      <td>3</td>\n",
       "      <td>3</td>\n",
       "      <td>3</td>\n",
       "      <td>2</td>\n",
       "      <td>4</td>\n",
       "      <td>2</td>\n",
       "      <td>2</td>\n",
       "      <td>2</td>\n",
       "    </tr>\n",
       "    <tr>\n",
       "      <th>471</th>\n",
       "      <td>32.000000</td>\n",
       "      <td>3</td>\n",
       "      <td>3</td>\n",
       "      <td>3</td>\n",
       "      <td>3</td>\n",
       "      <td>5</td>\n",
       "      <td>4</td>\n",
       "      <td>4</td>\n",
       "      <td>5</td>\n",
       "      <td>5</td>\n",
       "      <td>4</td>\n",
       "      <td>4</td>\n",
       "      <td>3</td>\n",
       "      <td>5</td>\n",
       "      <td>5</td>\n",
       "      <td>5</td>\n",
       "      <td>5</td>\n",
       "      <td>5</td>\n",
       "      <td>2</td>\n",
       "      <td>2</td>\n",
       "    </tr>\n",
       "  </tbody>\n",
       "</table>\n",
       "<p>472 rows × 20 columns</p>\n",
       "</div>"
      ],
      "text/plain": [
       "           age  shocks  fear  anxiety  physiological_symptoms  \\\n",
       "0    21.000000       3     2        2                       2   \n",
       "1    21.000000       1     2        2                       1   \n",
       "2    21.000000       3     2        2                       1   \n",
       "3    23.000000       3     3        3                       3   \n",
       "4    64.000000       4     4        4                       3   \n",
       "..         ...     ...   ...      ...                     ...   \n",
       "467  25.000000       3     3        3                       1   \n",
       "468  38.872807       2     4        4                       3   \n",
       "469  45.000000       2     1        2                       2   \n",
       "470  44.000000       3     3        4                       2   \n",
       "471  32.000000       3     3        3                       3   \n",
       "\n",
       "     decision_timeliness  insomnia  seismic_concern  radio_info  TV_info  \\\n",
       "0                      3         1                2           3        4   \n",
       "1                      3         2                4           3        2   \n",
       "2                      4         2                3           2        2   \n",
       "3                      1         3                4           1        1   \n",
       "4                      2         3                4           3        3   \n",
       "..                   ...       ...              ...         ...      ...   \n",
       "467                    2         2                4           5        5   \n",
       "468                    3         2                4           3        3   \n",
       "469                    4         2                3           1        1   \n",
       "470                    2         4                4           3        3   \n",
       "471                    5         4                4           5        5   \n",
       "\n",
       "     social_media_info  newspaper_info  app_info  \\\n",
       "0                    2               4         4   \n",
       "1                    2               2         2   \n",
       "2                    2               2         2   \n",
       "3                    1               1         1   \n",
       "4                    3               3         3   \n",
       "..                 ...             ...       ...   \n",
       "467                  5               5         5   \n",
       "468                  3               3         3   \n",
       "469                  3               2         2   \n",
       "470                  4               3         3   \n",
       "471                  4               4         3   \n",
       "\n",
       "     municipal_institutions_trust  regional_institutions_trust  \\\n",
       "0                               3                            3   \n",
       "1                               2                            2   \n",
       "2                               2                            2   \n",
       "3                               1                            1   \n",
       "4                               2                            3   \n",
       "..                            ...                          ...   \n",
       "467                             2                            2   \n",
       "468                             3                            3   \n",
       "469                             2                            3   \n",
       "470                             3                            3   \n",
       "471                             5                            5   \n",
       "\n",
       "     national_institutions_trust  INGV_trust  security  n_vehicles  \\\n",
       "0                              3           4         2           0   \n",
       "1                              2           3         1           5   \n",
       "2                              2           5         3           0   \n",
       "3                              1           1         1           2   \n",
       "4                              2           4         2           0   \n",
       "..                           ...         ...       ...         ...   \n",
       "467                            2           3         3           3   \n",
       "468                            3           3         2           1   \n",
       "469                            3           3         3           1   \n",
       "470                            2           4         2           2   \n",
       "471                            5           5         5           2   \n",
       "\n",
       "     end_of_month  \n",
       "0               1  \n",
       "1               1  \n",
       "2               1  \n",
       "3               5  \n",
       "4               3  \n",
       "..            ...  \n",
       "467             3  \n",
       "468             3  \n",
       "469             1  \n",
       "470             2  \n",
       "471             2  \n",
       "\n",
       "[472 rows x 20 columns]"
      ]
     },
     "execution_count": 16,
     "metadata": {},
     "output_type": "execute_result"
    }
   ],
   "source": [
    "X"
   ]
  },
  {
   "cell_type": "code",
   "execution_count": 17,
   "id": "a1bdc3d2",
   "metadata": {},
   "outputs": [
    {
     "data": {
      "text/plain": [
       "0      0\n",
       "1      0\n",
       "2      0\n",
       "3      0\n",
       "4      1\n",
       "      ..\n",
       "467    0\n",
       "468    0\n",
       "469    0\n",
       "470    0\n",
       "471    0\n",
       "Name: earthquake80, Length: 472, dtype: int64"
      ]
     },
     "execution_count": 17,
     "metadata": {},
     "output_type": "execute_result"
    }
   ],
   "source": [
    "y"
   ]
  },
  {
   "cell_type": "markdown",
   "id": "e0415e8d",
   "metadata": {},
   "source": [
    "SAMPLING"
   ]
  },
  {
   "cell_type": "code",
   "execution_count": 45,
   "id": "1aabb89b",
   "metadata": {},
   "outputs": [],
   "source": [
    "# importing the models\n",
    "from sklearn.model_selection import train_test_split\n",
    "from sklearn.preprocessing import StandardScaler\n",
    "from sklearn.neighbors import KNeighborsClassifier\n",
    "from sklearn.metrics import accuracy_score,precision_score,recall_score,f1_score,classification_report,confusion_matrix"
   ]
  },
  {
   "cell_type": "code",
   "execution_count": 20,
   "id": "63117e69",
   "metadata": {},
   "outputs": [],
   "source": [
    "X_train, X_test, y_train, y_test = train_test_split(X, y, test_size=0.2, stratify=y, random_state=42)"
   ]
  },
  {
   "cell_type": "code",
   "execution_count": 21,
   "id": "93807b78",
   "metadata": {},
   "outputs": [
    {
     "data": {
      "text/plain": [
       "((472, 20), (377, 20), (95, 20), (472,), (377,), (95,))"
      ]
     },
     "execution_count": 21,
     "metadata": {},
     "output_type": "execute_result"
    }
   ],
   "source": [
    "X.shape, X_train.shape, X_test.shape,y.shape,y_train.shape,y_test.shape"
   ]
  },
  {
   "cell_type": "markdown",
   "id": "8a6f9c04",
   "metadata": {},
   "source": [
    "MODEL FITTING"
   ]
  },
  {
   "cell_type": "code",
   "execution_count": 46,
   "id": "1820e24a",
   "metadata": {},
   "outputs": [],
   "source": [
    "# Standardize features by removing the mean and scaling to unit variance\n",
    "scaler = StandardScaler()\n",
    "X_train = scaler.fit_transform(X_train)\n",
    "X_test = scaler.transform(X_test)"
   ]
  },
  {
   "cell_type": "code",
   "execution_count": null,
   "id": "792b3e6c",
   "metadata": {},
   "outputs": [],
   "source": []
  },
  {
   "cell_type": "code",
   "execution_count": 47,
   "id": "a2599f56",
   "metadata": {},
   "outputs": [
    {
     "data": {
      "text/html": [
       "<style>#sk-container-id-3 {color: black;background-color: white;}#sk-container-id-3 pre{padding: 0;}#sk-container-id-3 div.sk-toggleable {background-color: white;}#sk-container-id-3 label.sk-toggleable__label {cursor: pointer;display: block;width: 100%;margin-bottom: 0;padding: 0.3em;box-sizing: border-box;text-align: center;}#sk-container-id-3 label.sk-toggleable__label-arrow:before {content: \"▸\";float: left;margin-right: 0.25em;color: #696969;}#sk-container-id-3 label.sk-toggleable__label-arrow:hover:before {color: black;}#sk-container-id-3 div.sk-estimator:hover label.sk-toggleable__label-arrow:before {color: black;}#sk-container-id-3 div.sk-toggleable__content {max-height: 0;max-width: 0;overflow: hidden;text-align: left;background-color: #f0f8ff;}#sk-container-id-3 div.sk-toggleable__content pre {margin: 0.2em;color: black;border-radius: 0.25em;background-color: #f0f8ff;}#sk-container-id-3 input.sk-toggleable__control:checked~div.sk-toggleable__content {max-height: 200px;max-width: 100%;overflow: auto;}#sk-container-id-3 input.sk-toggleable__control:checked~label.sk-toggleable__label-arrow:before {content: \"▾\";}#sk-container-id-3 div.sk-estimator input.sk-toggleable__control:checked~label.sk-toggleable__label {background-color: #d4ebff;}#sk-container-id-3 div.sk-label input.sk-toggleable__control:checked~label.sk-toggleable__label {background-color: #d4ebff;}#sk-container-id-3 input.sk-hidden--visually {border: 0;clip: rect(1px 1px 1px 1px);clip: rect(1px, 1px, 1px, 1px);height: 1px;margin: -1px;overflow: hidden;padding: 0;position: absolute;width: 1px;}#sk-container-id-3 div.sk-estimator {font-family: monospace;background-color: #f0f8ff;border: 1px dotted black;border-radius: 0.25em;box-sizing: border-box;margin-bottom: 0.5em;}#sk-container-id-3 div.sk-estimator:hover {background-color: #d4ebff;}#sk-container-id-3 div.sk-parallel-item::after {content: \"\";width: 100%;border-bottom: 1px solid gray;flex-grow: 1;}#sk-container-id-3 div.sk-label:hover label.sk-toggleable__label {background-color: #d4ebff;}#sk-container-id-3 div.sk-serial::before {content: \"\";position: absolute;border-left: 1px solid gray;box-sizing: border-box;top: 0;bottom: 0;left: 50%;z-index: 0;}#sk-container-id-3 div.sk-serial {display: flex;flex-direction: column;align-items: center;background-color: white;padding-right: 0.2em;padding-left: 0.2em;position: relative;}#sk-container-id-3 div.sk-item {position: relative;z-index: 1;}#sk-container-id-3 div.sk-parallel {display: flex;align-items: stretch;justify-content: center;background-color: white;position: relative;}#sk-container-id-3 div.sk-item::before, #sk-container-id-3 div.sk-parallel-item::before {content: \"\";position: absolute;border-left: 1px solid gray;box-sizing: border-box;top: 0;bottom: 0;left: 50%;z-index: -1;}#sk-container-id-3 div.sk-parallel-item {display: flex;flex-direction: column;z-index: 1;position: relative;background-color: white;}#sk-container-id-3 div.sk-parallel-item:first-child::after {align-self: flex-end;width: 50%;}#sk-container-id-3 div.sk-parallel-item:last-child::after {align-self: flex-start;width: 50%;}#sk-container-id-3 div.sk-parallel-item:only-child::after {width: 0;}#sk-container-id-3 div.sk-dashed-wrapped {border: 1px dashed gray;margin: 0 0.4em 0.5em 0.4em;box-sizing: border-box;padding-bottom: 0.4em;background-color: white;}#sk-container-id-3 div.sk-label label {font-family: monospace;font-weight: bold;display: inline-block;line-height: 1.2em;}#sk-container-id-3 div.sk-label-container {text-align: center;}#sk-container-id-3 div.sk-container {/* jupyter's `normalize.less` sets `[hidden] { display: none; }` but bootstrap.min.css set `[hidden] { display: none !important; }` so we also need the `!important` here to be able to override the default hidden behavior on the sphinx rendered scikit-learn.org. See: https://github.com/scikit-learn/scikit-learn/issues/21755 */display: inline-block !important;position: relative;}#sk-container-id-3 div.sk-text-repr-fallback {display: none;}</style><div id=\"sk-container-id-3\" class=\"sk-top-container\"><div class=\"sk-text-repr-fallback\"><pre>KNeighborsClassifier(n_neighbors=3)</pre><b>In a Jupyter environment, please rerun this cell to show the HTML representation or trust the notebook. <br />On GitHub, the HTML representation is unable to render, please try loading this page with nbviewer.org.</b></div><div class=\"sk-container\" hidden><div class=\"sk-item\"><div class=\"sk-estimator sk-toggleable\"><input class=\"sk-toggleable__control sk-hidden--visually\" id=\"sk-estimator-id-3\" type=\"checkbox\" checked><label for=\"sk-estimator-id-3\" class=\"sk-toggleable__label sk-toggleable__label-arrow\">KNeighborsClassifier</label><div class=\"sk-toggleable__content\"><pre>KNeighborsClassifier(n_neighbors=3)</pre></div></div></div></div></div>"
      ],
      "text/plain": [
       "KNeighborsClassifier(n_neighbors=3)"
      ]
     },
     "execution_count": 47,
     "metadata": {},
     "output_type": "execute_result"
    }
   ],
   "source": [
    "model = KNeighborsClassifier(n_neighbors=3)\n",
    "model.fit(X_train,y_train)"
   ]
  },
  {
   "cell_type": "markdown",
   "id": "6187ff02",
   "metadata": {},
   "source": [
    "ACCURACY SCORE PREDICTION FOR TRAIN DATA"
   ]
  },
  {
   "cell_type": "code",
   "execution_count": 48,
   "id": "728c6ea9",
   "metadata": {},
   "outputs": [
    {
     "name": "stdout",
     "output_type": "stream",
     "text": [
      "0.9177718832891246\n"
     ]
    }
   ],
   "source": [
    "# accuracy on training data\n",
    "y_train_prediction = model.predict(X_train)\n",
    "training_data_accuracy = accuracy_score(y_train, y_train_prediction)\n",
    "print(training_data_accuracy)"
   ]
  },
  {
   "cell_type": "code",
   "execution_count": 49,
   "id": "055f15e1",
   "metadata": {},
   "outputs": [
    {
     "name": "stdout",
     "output_type": "stream",
     "text": [
      "Accuracy on Training data :  91.78 %\n"
     ]
    }
   ],
   "source": [
    "print('Accuracy on Training data : ', round(training_data_accuracy*100, 2), '%')"
   ]
  },
  {
   "cell_type": "code",
   "execution_count": 50,
   "id": "276701a3",
   "metadata": {},
   "outputs": [
    {
     "name": "stdout",
     "output_type": "stream",
     "text": [
      "[[235  13]\n",
      " [ 18 111]]\n"
     ]
    }
   ],
   "source": [
    "cf_matrix = confusion_matrix(y_train,y_train_prediction)\n",
    "\n",
    "print(cf_matrix)"
   ]
  },
  {
   "cell_type": "code",
   "execution_count": 51,
   "id": "1d4e9786",
   "metadata": {},
   "outputs": [
    {
     "data": {
      "text/plain": [
       "<Axes: >"
      ]
     },
     "execution_count": 51,
     "metadata": {},
     "output_type": "execute_result"
    },
    {
     "data": {
      "image/png": "[encoded data removed]",
      "text/plain": [
       "<Figure size 640x480 with 2 Axes>"
      ]
     },
     "metadata": {},
     "output_type": "display_data"
    }
   ],
   "source": [
    "import seaborn as sns\n",
    "sns.heatmap(cf_matrix, annot=True)"
   ]
  },
  {
   "cell_type": "markdown",
   "id": "edb767ad",
   "metadata": {},
   "source": [
    "ACCURACY SCORE PREDICTION FOR TEST DATA"
   ]
  },
  {
   "cell_type": "code",
   "execution_count": 52,
   "id": "45fd4716",
   "metadata": {},
   "outputs": [
    {
     "name": "stdout",
     "output_type": "stream",
     "text": [
      "0.8315789473684211\n"
     ]
    }
   ],
   "source": [
    "# accuracy on training data\n",
    "y_test_prediction = model.predict(X_test)\n",
    "test_data_accuracy = accuracy_score(y_test, y_test_prediction)\n",
    "print(test_data_accuracy)"
   ]
  },
  {
   "cell_type": "code",
   "execution_count": 53,
   "id": "da0a4ff9",
   "metadata": {},
   "outputs": [
    {
     "name": "stdout",
     "output_type": "stream",
     "text": [
      "Accuracy on Test data :  83.16 %\n"
     ]
    }
   ],
   "source": [
    "print('Accuracy on Test data : ', round(test_data_accuracy*100, 2), '%')"
   ]
  },
  {
   "cell_type": "code",
   "execution_count": 54,
   "id": "0f949b0e",
   "metadata": {},
   "outputs": [
    {
     "name": "stdout",
     "output_type": "stream",
     "text": [
      "[[53  9]\n",
      " [ 7 26]]\n"
     ]
    }
   ],
   "source": [
    "cf_matrix = confusion_matrix(y_test,y_test_prediction)\n",
    "\n",
    "print(cf_matrix)"
   ]
  },
  {
   "cell_type": "markdown",
   "id": "7dc05f66",
   "metadata": {},
   "source": [
    "CLASSIFICATION REPORT FOR TRAIN DATA"
   ]
  },
  {
   "cell_type": "code",
   "execution_count": 55,
   "id": "0b7a0e1a",
   "metadata": {},
   "outputs": [
    {
     "name": "stdout",
     "output_type": "stream",
     "text": [
      "              precision    recall  f1-score   support\n",
      "\n",
      "           0       0.93      0.95      0.94       248\n",
      "           1       0.90      0.86      0.88       129\n",
      "\n",
      "    accuracy                           0.92       377\n",
      "   macro avg       0.91      0.90      0.91       377\n",
      "weighted avg       0.92      0.92      0.92       377\n",
      "\n"
     ]
    }
   ],
   "source": [
    "print(classification_report(y_train,model.predict(X_train)))"
   ]
  },
  {
   "cell_type": "markdown",
   "id": "eda14c0a",
   "metadata": {},
   "source": [
    "CLASSIFICATION REPORT FOR TEST DATA"
   ]
  },
  {
   "cell_type": "code",
   "execution_count": 56,
   "id": "68e2b55f",
   "metadata": {},
   "outputs": [
    {
     "name": "stdout",
     "output_type": "stream",
     "text": [
      "              precision    recall  f1-score   support\n",
      "\n",
      "           0       0.88      0.85      0.87        62\n",
      "           1       0.74      0.79      0.76        33\n",
      "\n",
      "    accuracy                           0.83        95\n",
      "   macro avg       0.81      0.82      0.82        95\n",
      "weighted avg       0.83      0.83      0.83        95\n",
      "\n"
     ]
    }
   ],
   "source": [
    "print(classification_report(y_test,model.predict(X_test)))"
   ]
  },
  {
   "cell_type": "code",
   "execution_count": null,
   "id": "5c4872a0",
   "metadata": {},
   "outputs": [],
   "source": [
    "From the above study it is found that earthquacke prediction is 83%"
   ]
  },
  {
   "cell_type": "markdown",
   "id": "b1a53a29",
   "metadata": {},
   "source": [
    "*********************************************************DONE********************************************************"
   ]
  }
 ],
 "metadata": {
  "kernelspec": {
   "display_name": "Python 3 (ipykernel)",
   "language": "python",
   "name": "python3"
  },
  "language_info": {
   "codemirror_mode": {
    "name": "ipython",
    "version": 3
   },
   "file_extension": ".py",
   "mimetype": "text/x-python",
   "name": "python",
   "nbconvert_exporter": "python",
   "pygments_lexer": "ipython3",
   "version": "3.11.7"
  }
 },
 "nbformat": 4,
 "nbformat_minor": 5
}
